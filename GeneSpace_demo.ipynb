{
  "nbformat": 4,
  "nbformat_minor": 0,
  "metadata": {
    "colab": {
      "provenance": [],
      "machine_shape": "hm",
      "gpuType": "T4"
    },
    "kernelspec": {
      "name": "python3",
      "display_name": "Python 3"
    },
    "language_info": {
      "name": "python"
    },
    "accelerator": "GPU"
  },
  "cells": [
    {
      "cell_type": "code",
      "execution_count": null,
      "metadata": {
        "id": "OpMJgZeTGkcn"
      },
      "outputs": [],
      "source": [
        "!git clone https://github.com/dadukhankevin/genespace"
      ]
    },
    {
      "cell_type": "code",
      "source": [
        "# or...\n",
        "# !pip install git+https://github.com/dadukhankevin/genespace"
      ],
      "metadata": {
        "id": "bvMNkylTH3G6"
      },
      "execution_count": null,
      "outputs": []
    },
    {
      "cell_type": "code",
      "source": [
        "%cd genespace\n",
        "!pip install -r requirements.txt"
      ],
      "metadata": {
        "id": "_C_vxp37IWTt"
      },
      "execution_count": null,
      "outputs": []
    }
  ]
}